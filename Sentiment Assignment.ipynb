{
 "cells": [
  {
   "cell_type": "markdown",
   "id": "7f79baf9",
   "metadata": {},
   "source": [
    "# ADS 509 Sentiment Assignment\n",
    "\n",
    "This notebook holds the Sentiment Assignment for Module 6 in ADS 509, Applied Text Mining. Work through this notebook, writing code and answering questions where required. \n",
    "\n",
    "In a previous assignment you put together Twitter data and lyrics data on two artists. In this assignment we apply sentiment analysis to those data sets. If, for some reason, you did not complete that previous assignment, data to use for this assignment can be found in the assignment materials section of Blackboard. \n"
   ]
  },
  {
   "cell_type": "markdown",
   "id": "aae8e2e1",
   "metadata": {},
   "source": [
    "## General Assignment Instructions\n",
    "\n",
    "These instructions are included in every assignment, to remind you of the coding standards for the class. Feel free to delete this cell after reading it. \n",
    "\n",
    "One sign of mature code is conforming to a style guide. We recommend the [Google Python Style Guide](https://google.github.io/styleguide/pyguide.html). If you use a different style guide, please include a cell with a link. \n",
    "\n",
    "Your code should be relatively easy-to-read, sensibly commented, and clean. Writing code is a messy process, so please be sure to edit your final submission. Remove any cells that are not needed or parts of cells that contain unnecessary code. Remove inessential `import` statements and make sure that all such statements are moved into the designated cell. \n",
    "\n",
    "Make use of non-code cells for written commentary. These cells should be grammatical and clearly written. In some of these cells you will have questions to answer. The questions will be marked by a \"Q:\" and will have a corresponding \"A:\" spot for you. *Make sure to answer every question marked with a `Q:` for full credit.* \n"
   ]
  },
  {
   "cell_type": "code",
   "execution_count": 68,
   "id": "e2d096b7",
   "metadata": {},
   "outputs": [],
   "source": [
    "import os\n",
    "import re\n",
    "import emoji\n",
    "import pandas as pd\n",
    "import numpy as np\n",
    "\n",
    "from collections import Counter, defaultdict\n",
    "from string import punctuation\n",
    "\n",
    "from nltk.corpus import stopwords\n",
    "\n",
    "sw = stopwords.words(\"english\")"
   ]
  },
  {
   "cell_type": "code",
   "execution_count": 94,
   "id": "6b555ab2",
   "metadata": {},
   "outputs": [],
   "source": [
    "# Add any additional import statements you need here\n",
    "\n",
    "from nltk.tokenize import word_tokenize\n",
    "import emoji\n",
    "import matplotlib.pyplot as plt\n",
    "import seaborn as sns"
   ]
  },
  {
   "cell_type": "code",
   "execution_count": 70,
   "id": "923b5a86",
   "metadata": {},
   "outputs": [],
   "source": [
    "# change `data_location` to the location of the folder on your machine.\n",
    "data_location = '/users/christophergarcia/Desktop/ads-tm-api-scrape/'\n",
    "\n",
    "# These subfolders should still work if you correctly stored the \n",
    "twitter_folder = 'twitter/'\n",
    "lyrics_folder = 'lyrics/'\n",
    "artist_files = {'cher':'cher_followers_data.txt',\n",
    "                'robyn':'robynkonichiwa_followers_data.txt'}\n",
    "\n",
    "positive_words_file = '/Users/christophergarcia/Downloads/positive-words.txt'\n",
    "negative_words_file = '/Users/christophergarcia/Downloads/negative-words.txt'\n",
    "tidy_text_file = '/Users/christophergarcia/Downloads/tidytext_sentiments.txt'"
   ]
  },
  {
   "cell_type": "markdown",
   "id": "9d3bf93e",
   "metadata": {},
   "source": [
    "## Data Input\n",
    "\n",
    "Now read in each of the corpora. For the lyrics data, it may be convenient to store the entire contents of the file to make it easier to inspect the titles individually, as you'll do in the last part of the assignment. In the solution, I stored the lyrics data in a dictionary with two dimensions of keys: artist and song. The value was the file contents. A Pandas data frame would work equally well. \n",
    "\n",
    "For the Twitter data, we only need the description field for this assignment. Feel free all the descriptions read it into a data structure. In the solution, I stored the descriptions as a dictionary of lists, with the key being the artist. \n",
    "\n",
    "\n"
   ]
  },
  {
   "cell_type": "code",
   "execution_count": 71,
   "id": "cd92fa7f",
   "metadata": {},
   "outputs": [
    {
     "data": {
      "text/html": [
       "<div>\n",
       "<style scoped>\n",
       "    .dataframe tbody tr th:only-of-type {\n",
       "        vertical-align: middle;\n",
       "    }\n",
       "\n",
       "    .dataframe tbody tr th {\n",
       "        vertical-align: top;\n",
       "    }\n",
       "\n",
       "    .dataframe thead th {\n",
       "        text-align: right;\n",
       "    }\n",
       "</style>\n",
       "<table border=\"1\" class=\"dataframe\">\n",
       "  <thead>\n",
       "    <tr style=\"text-align: right;\">\n",
       "      <th></th>\n",
       "      <th>artist</th>\n",
       "      <th>description</th>\n",
       "    </tr>\n",
       "  </thead>\n",
       "  <tbody>\n",
       "    <tr>\n",
       "      <th>0</th>\n",
       "      <td>cher</td>\n",
       "      <td>NaN</td>\n",
       "    </tr>\n",
       "    <tr>\n",
       "      <th>1</th>\n",
       "      <td>cher</td>\n",
       "      <td>𝙿𝚛𝚘𝚞𝚍 𝚜𝚞𝚙𝚙𝚘𝚛𝚝𝚎𝚛 𝚘𝚏 𝚖𝚎𝚜𝚜𝚢 𝚋𝚞𝚗𝚜 &amp; 𝚕𝚎𝚐𝚐𝚒𝚗𝚐𝚜</td>\n",
       "    </tr>\n",
       "  </tbody>\n",
       "</table>\n",
       "</div>"
      ],
      "text/plain": [
       "  artist                               description\n",
       "0   cher                                       NaN\n",
       "1   cher  𝙿𝚛𝚘𝚞𝚍 𝚜𝚞𝚙𝚙𝚘𝚛𝚝𝚎𝚛 𝚘𝚏 𝚖𝚎𝚜𝚜𝚢 𝚋𝚞𝚗𝚜 & 𝚕𝚎𝚐𝚐𝚒𝚗𝚐𝚜"
      ]
     },
     "execution_count": 71,
     "metadata": {},
     "output_type": "execute_result"
    }
   ],
   "source": [
    "# Read Twitter Data\n",
    "twitter_data = pd.read_csv(data_location + twitter_folder + artist_files['cher'],\n",
    "                           sep=\"\\t\",\n",
    "                           quoting=3)\n",
    "\n",
    "twitter_data['artist'] = \"cher\"\n",
    "\n",
    "twitter_data_2 = pd.read_csv(data_location + twitter_folder + artist_files['robyn'],\n",
    "                             sep=\"\\t\",\n",
    "                             quoting=3)\n",
    "\n",
    "twitter_data_2['artist'] = \"robyn\"\n",
    "\n",
    "twitter_data = pd.concat([\n",
    "    twitter_data,twitter_data_2])\n",
    "    \n",
    "del(twitter_data_2)\n",
    "\n",
    "twitter_data = twitter_data[['artist', 'description']]\n",
    "twitter_data.head(2)"
   ]
  },
  {
   "cell_type": "code",
   "execution_count": 72,
   "id": "a8976368",
   "metadata": {},
   "outputs": [],
   "source": [
    "# Read Lyrics Data\n",
    "def create_lyrics_dictionary(folder_path):\n",
    "    lyrics_dict = {}\n",
    "\n",
    "    # Iterate over each item in the folder\n",
    "    for item_name in os.listdir(folder_path):\n",
    "        item_path = os.path.join(folder_path, item_name)\n",
    "\n",
    "        # Check if the item is a folder (artist folder)\n",
    "        if os.path.isdir(item_path):\n",
    "            artist_dict = {}\n",
    "\n",
    "            # Iterate over each file in the artist folder\n",
    "            for filename in os.listdir(item_path):\n",
    "                file_path = os.path.join(item_path, filename)\n",
    "\n",
    "                # Check if the item is a file (song file)\n",
    "                if os.path.isfile(file_path):\n",
    "                    with open(file_path, \"r\") as file:\n",
    "                        # Read the contents of the file\n",
    "                        lines = file.readlines()\n",
    "\n",
    "                        if lines:\n",
    "                            title = lines[0].strip()  # Assuming the first line contains the title\n",
    "                            lyrics = ''.join(lines[1:])  # Combine the remaining lines as the lyrics\n",
    "\n",
    "                            # Add the song lyrics to the artist's dictionary with the title as the inner key\n",
    "                            artist_dict[title] = lyrics\n",
    "\n",
    "            # Add the artist's dictionary to the main lyrics dictionary\n",
    "            lyrics_dict[item_name] = artist_dict\n",
    "\n",
    "    return lyrics_dict\n",
    "\n",
    "# Call the function with the lyrics folder path\n",
    "lyrics_dictionary = create_lyrics_dictionary(data_location + lyrics_folder)"
   ]
  },
  {
   "cell_type": "code",
   "execution_count": 73,
   "id": "af543f24",
   "metadata": {},
   "outputs": [],
   "source": [
    "# Create an empty list to store the rows of the DataFrame\n",
    "rows = []\n",
    "\n",
    "# Iterate over the dictionary\n",
    "for artist, songs in lyrics_dictionary.items():\n",
    "    for song, lyrics in songs.items():\n",
    "        # Remove double quotation marks from the song name\n",
    "        song = song.replace('\"', '')\n",
    "        lyrics = lyrics.replace('\\n', ' ')\n",
    "        # Append a new row to the list\n",
    "        rows.append({\n",
    "            'artist': artist,\n",
    "            'song': song,\n",
    "            'lyrics': lyrics\n",
    "        })\n",
    "\n",
    "# Create the DataFrame from the list of rows\n",
    "lyrics_data = pd.DataFrame(rows, columns=['artist', 'song', 'lyrics'])"
   ]
  },
  {
   "cell_type": "code",
   "execution_count": 74,
   "id": "60a69ff0",
   "metadata": {
    "scrolled": true
   },
   "outputs": [
    {
     "data": {
      "text/html": [
       "<div>\n",
       "<style scoped>\n",
       "    .dataframe tbody tr th:only-of-type {\n",
       "        vertical-align: middle;\n",
       "    }\n",
       "\n",
       "    .dataframe tbody tr th {\n",
       "        vertical-align: top;\n",
       "    }\n",
       "\n",
       "    .dataframe thead th {\n",
       "        text-align: right;\n",
       "    }\n",
       "</style>\n",
       "<table border=\"1\" class=\"dataframe\">\n",
       "  <thead>\n",
       "    <tr style=\"text-align: right;\">\n",
       "      <th></th>\n",
       "      <th>artist</th>\n",
       "      <th>song</th>\n",
       "      <th>lyrics</th>\n",
       "    </tr>\n",
       "  </thead>\n",
       "  <tbody>\n",
       "    <tr>\n",
       "      <th>0</th>\n",
       "      <td>robyn</td>\n",
       "      <td>Include Me Out</td>\n",
       "      <td>It is really very simple Just a single puls...</td>\n",
       "    </tr>\n",
       "    <tr>\n",
       "      <th>1</th>\n",
       "      <td>robyn</td>\n",
       "      <td>Electric</td>\n",
       "      <td>Electric...  It's electric It's a natural h...</td>\n",
       "    </tr>\n",
       "    <tr>\n",
       "      <th>2</th>\n",
       "      <td>robyn</td>\n",
       "      <td>Beach 2K20</td>\n",
       "      <td>(So you wanna go out? How you gonna get the...</td>\n",
       "    </tr>\n",
       "    <tr>\n",
       "      <th>3</th>\n",
       "      <td>robyn</td>\n",
       "      <td>Love Kills</td>\n",
       "      <td>If you're looking for love Get a heart made...</td>\n",
       "    </tr>\n",
       "    <tr>\n",
       "      <th>4</th>\n",
       "      <td>robyn</td>\n",
       "      <td>Time Machine</td>\n",
       "      <td>Hey, what did I do? Can't believe the fit I...</td>\n",
       "    </tr>\n",
       "  </tbody>\n",
       "</table>\n",
       "</div>"
      ],
      "text/plain": [
       "  artist            song                                             lyrics\n",
       "0  robyn  Include Me Out     It is really very simple Just a single puls...\n",
       "1  robyn        Electric     Electric...  It's electric It's a natural h...\n",
       "2  robyn      Beach 2K20     (So you wanna go out? How you gonna get the...\n",
       "3  robyn      Love Kills     If you're looking for love Get a heart made...\n",
       "4  robyn    Time Machine     Hey, what did I do? Can't believe the fit I..."
      ]
     },
     "execution_count": 74,
     "metadata": {},
     "output_type": "execute_result"
    }
   ],
   "source": [
    "lyrics_data.head()"
   ]
  },
  {
   "cell_type": "code",
   "execution_count": 75,
   "id": "d72f2deb",
   "metadata": {},
   "outputs": [
    {
     "data": {
      "text/html": [
       "<div>\n",
       "<style scoped>\n",
       "    .dataframe tbody tr th:only-of-type {\n",
       "        vertical-align: middle;\n",
       "    }\n",
       "\n",
       "    .dataframe tbody tr th {\n",
       "        vertical-align: top;\n",
       "    }\n",
       "\n",
       "    .dataframe thead th {\n",
       "        text-align: right;\n",
       "    }\n",
       "</style>\n",
       "<table border=\"1\" class=\"dataframe\">\n",
       "  <thead>\n",
       "    <tr style=\"text-align: right;\">\n",
       "      <th></th>\n",
       "      <th>artist</th>\n",
       "    </tr>\n",
       "  </thead>\n",
       "  <tbody>\n",
       "    <tr>\n",
       "      <th>0</th>\n",
       "      <td>robyn</td>\n",
       "    </tr>\n",
       "    <tr>\n",
       "      <th>1</th>\n",
       "      <td>robyn</td>\n",
       "    </tr>\n",
       "    <tr>\n",
       "      <th>2</th>\n",
       "      <td>robyn</td>\n",
       "    </tr>\n",
       "    <tr>\n",
       "      <th>3</th>\n",
       "      <td>robyn</td>\n",
       "    </tr>\n",
       "    <tr>\n",
       "      <th>4</th>\n",
       "      <td>robyn</td>\n",
       "    </tr>\n",
       "    <tr>\n",
       "      <th>...</th>\n",
       "      <td>...</td>\n",
       "    </tr>\n",
       "    <tr>\n",
       "      <th>245</th>\n",
       "      <td>cher</td>\n",
       "    </tr>\n",
       "    <tr>\n",
       "      <th>246</th>\n",
       "      <td>cher</td>\n",
       "    </tr>\n",
       "    <tr>\n",
       "      <th>247</th>\n",
       "      <td>cher</td>\n",
       "    </tr>\n",
       "    <tr>\n",
       "      <th>248</th>\n",
       "      <td>cher</td>\n",
       "    </tr>\n",
       "    <tr>\n",
       "      <th>249</th>\n",
       "      <td>cher</td>\n",
       "    </tr>\n",
       "  </tbody>\n",
       "</table>\n",
       "<p>250 rows × 1 columns</p>\n",
       "</div>"
      ],
      "text/plain": [
       "    artist\n",
       "0    robyn\n",
       "1    robyn\n",
       "2    robyn\n",
       "3    robyn\n",
       "4    robyn\n",
       "..     ...\n",
       "245   cher\n",
       "246   cher\n",
       "247   cher\n",
       "248   cher\n",
       "249   cher\n",
       "\n",
       "[250 rows x 1 columns]"
      ]
     },
     "execution_count": 75,
     "metadata": {},
     "output_type": "execute_result"
    }
   ],
   "source": [
    "lyrics_data[['artist']]"
   ]
  },
  {
   "cell_type": "code",
   "execution_count": 76,
   "id": "13458b90",
   "metadata": {},
   "outputs": [
    {
     "data": {
      "text/plain": [
       "\"\\ndef read_sentiment_words(file_path):\\n    \\n    \\n    sentiment_words = {}\\n    with open(file_path, 'r') as file:\\n        for line in file:\\n            word = line.strip()\\n            sentiment_words[word] = 1 if 'positive' in file_path else -1\\n    return sentiment_words\\n\\npos_words = read_sentiment_words(positive_words_file)\\nneg_words = read_sentiment_words(negative_words_file)\\ntidy_text = read_sentiment_words(tidy_text_file)\\n\""
      ]
     },
     "execution_count": 76,
     "metadata": {},
     "output_type": "execute_result"
    }
   ],
   "source": [
    "# Read in the positive and negative words and the\n",
    "# tidytext sentiment. Store these so that the positive\n",
    "# words are associated with a score of +1 and negative words\n",
    "# are associated with a score of -1. You can use a dataframe or a \n",
    "# dictionary for this.\n",
    "'''\n",
    "def read_sentiment_words(file_path):\n",
    "    \n",
    "    ''''''\n",
    "    sentiment_words = {}\n",
    "    with open(file_path, 'r') as file:\n",
    "        for line in file:\n",
    "            word = line.strip()\n",
    "            sentiment_words[word] = 1 if 'positive' in file_path else -1\n",
    "    return sentiment_words\n",
    "\n",
    "pos_words = read_sentiment_words(positive_words_file)\n",
    "neg_words = read_sentiment_words(negative_words_file)\n",
    "tidy_text = read_sentiment_words(tidy_text_file)\n",
    "'''\n"
   ]
  },
  {
   "cell_type": "code",
   "execution_count": 79,
   "id": "be6234fe",
   "metadata": {},
   "outputs": [],
   "source": [
    "sentiment = dict()\n",
    "    \n",
    "with open(positive_words_file, 'r') as infile:    \n",
    "    for idx, line in enumerate(infile.readlines()):\n",
    "        if line[0] == ';':\n",
    "            continue\n",
    "            \n",
    "        line = line.strip()\n",
    "        \n",
    "        if line and line.isalpha():\n",
    "            sentiment[line.strip()] = 1\n",
    "            \n",
    "with open(negative_words_file, 'r') as infile:    \n",
    "    for idx, line in enumerate(infile.readlines()):\n",
    "        if line[0] == ';':\n",
    "            continue\n",
    "            \n",
    "        line = line.strip()\n",
    "        \n",
    "        if line and line.isalpha():\n",
    "            sentiment[line.strip()] = -1\n",
    "            \n",
    "with open(tidy_text_file, 'r') as infile:    \n",
    "    next(infile)\n",
    "    for line in infile.readlines():\n",
    "        word, sent, lexicon = line.strip().split('\\t')\n",
    "        \n",
    "        if sent == 'negative':\n",
    "            sentiment[word] = -1\n",
    "        elif sent == 'positive':\n",
    "            sentiment[word] = 1\n",
    "        else:\n",
    "            print(f'Got {word} with sentiment {sentiment}.')"
   ]
  },
  {
   "cell_type": "markdown",
   "id": "6a5f3b12",
   "metadata": {},
   "source": [
    "## Sentiment Analysis on Songs\n",
    "\n",
    "In this section, score the sentiment for all the songs for both artists in your data set. Score the sentiment by manually calculating the sentiment using the combined lexicons provided in this repository. \n",
    "\n",
    "After you have calculated these sentiments, answer the questions at the end of this section.\n"
   ]
  },
  {
   "cell_type": "code",
   "execution_count": 80,
   "id": "664f8d8f",
   "metadata": {},
   "outputs": [],
   "source": [
    "# your code here\n",
    "def get_sentiment(text, sent=sentiment):\n",
    "    text = [w.lower() for w in text.split()]\n",
    "    \n",
    "    sentiment = sum(sent[word] for word in text if word in sent)\n",
    "    return(sentiment)"
   ]
  },
  {
   "cell_type": "code",
   "execution_count": 83,
   "id": "a7025237",
   "metadata": {},
   "outputs": [
    {
     "name": "stdout",
     "output_type": "stream",
     "text": [
      "Average Sentiment: artist\n",
      "cher     5.000000\n",
      "robyn    8.236559\n",
      "Name: sentiment, dtype: float64\n"
     ]
    }
   ],
   "source": [
    "lyrics_data['sentiment'] = lyrics_data['lyrics'].apply(get_sentiment)\n",
    "\n",
    "avg_sentiment = lyrics_data.groupby('artist')['sentiment'].mean()\n",
    "print('Average Sentiment:', avg_sentiment)"
   ]
  },
  {
   "cell_type": "code",
   "execution_count": 89,
   "id": "067d4895",
   "metadata": {},
   "outputs": [
    {
     "name": "stdout",
     "output_type": "stream",
     "text": [
      "Songs with Highest Sentiment:\n",
      "Song: Love Is Free\n",
      "Lyrics:    Free Love is free, baby Free Love is free, baby Boom boom boom boom boom chica boom Let me give it to you, baby Chica boom chica boom chica boom Chica boom chica boom chica boom Free Love is free, baby Free Love is free, baby Boom boom boom boom boom chica boom Let me give it to you, baby  I'ma give it to you, baby I'ma give it when I'm ready Some lose, some steady Some light, some heavy It's all over this city Sometimes in the ugly, sometimes in the pretty You never know where you get it cause you can't control it and you can't unfold it, slow down  I'ma give it to you, baby I'ma give it when I'm ready Some lose, some steady Some light, some heavy It's all over this city Sometimes in the ugly, sometimes in the pretty You never know where you get it cause you can't control it and you can't unfold it, slow down  Free Love is free, baby Free Love is free, baby Boom boom boom boom boom chica boom Let me give it to you, baby Yeah! Yeah! Yeah! Yeah! Love is free, baby Love is free, baby  I'ma give it to you, baby I'ma give it like a motha Safe like a rubber Mutter like a stutter It's all over this city Sometimes in the nitty, sometimes in the gritty You know I'ma give it to you better I'ma give you love forever No, you can't control it, slow down  I'ma give it to you, baby I'ma give it like a motha Safe like a rubber Mutter like a stutter It's all over this city Sometimes in the nitty, sometimes in the gritty You know I'ma give it to you better I'ma give you love forever No, you can't control it, slow down  Free Love is free, baby Free Love is free, baby Boom boom boom boom boom chica boom Let me give it to you, baby Boom boom boom boom boom Chica boom chica boom chica boom Boom boom boom boom boom Chica boom chica boom chica boom Free Love is free, baby Free Love is free, baby  AprÃ©ndelo, aprÃ©ndelo Te lo digo right now, sÃ³lo entiÃ©ndelo AprÃ©ndelo, aprÃ©ndelo Te lo digo right now, sÃ³lo entiÃ©ndelo Slow down  AprÃ©ndelo, aprÃ©ndelo Te lo digo right now, sÃ³lo entiÃ©ndelo AprÃ©ndelo, aprÃ©ndelo Te lo digo right now, sÃ³lo entiÃ©ndelo Slow down  I'ma give it to you, baby I'ma give it when I'm ready Some lose, some steady Some light, some heavy It's all over this city Sometimes in the ugly, sometimes in the pretty You never know where you get it cause you can't control it and you can't unfold it, slow down  Slow down [x6] Free Love is free, baby Love is free, baby So free [x4] You know Love is free So free Free â Love is free, baby [x8] So free \n",
      "\n",
      "Song: We Dance To The Beat\n",
      "Lyrics:    We dance to the beat We dance to the beat We dance to the beat We dance to the beat We dance to the beat We dance to the beat We dance to the beat We dance to the beat We dance to the beat We dance to the beat We dance to the beat We dance to the beat We dance to the beat We dance to the beat We dance to the beat We dance to the beat  We dance to the beat of the continents shifting under our feet We dance to the beat We dance to the beat We dance to the beat of a new, better, faster breed We dance to the beat We dance to the beat We dance to the beat of radioactivity blocking the exits We dance to the beat We dance to the beat We dance to the beat of false math and unrecognised genius We dance to the beat We dance to the beat We dance to the beat of distorted knowledge passed on We dance to the beat We dance to the beat We dance to the beat of a distant rumble We dance to the beat We dancing And it's loud and proud And it's loud and proud And it's loud and proud  We dance to the beat We dance to the beat We dance to the beat We dance to the beat  We dance to the beat of silent mutation We dance to the beat of your brain not evolving fast enough We dance to the beat of raw talent wasted We dance to the beat of bad kissers clicking teeth We dance to the beat of opportunity knocking We dance to the beat of an eviction next door We dance to the beat We dance to the beat  Of another recycled rebellion Of consolidating assets Of another crowd losing it Of your voice breaking up in static Of suburbia burning Of communication gone mad We dance to the beat We dance to the beat We dance to the beat We dance to the beat  And we don't stop And we don't stop And we don't stop And we don't stop And we don't stop  We dance to the beat We dance to the beat We dance to the beat We dance to the beat And we don't stop And we don't stop  We dance to the beat of a billion charges of endorphin We dance to the beat We dance to the beat We dance to the beat of a love lost and then won back We dance to the beat We dance to the beat We dance to the beat of source code and conjuring We dance to the beat We dance to the beat We dance to the beat of gravity giving us a break We dance to the beat We dance to the beat We dance to the beat We dance... \n",
      "\n",
      "Song: Between The Lines\n",
      "Lyrics:    Even reading in between the lines  Every day, you hit my phone up Every time (You hit my phone up) It makes my heart jump I want you to say it, baby (It makes my heart jump) Say it like you mean it It's right there on the tip of your tongue (You hit my phone up) And I can feel it And I like it baby Don't you stop (Don't stop what you're doing, baby) You know I like it You stretch it out (You know I like it) You give massages It's not your words (You know I like it) It's what's in between them There's no need to spell out (It makes my heart jump) I know you want it And I like it baby  I'm reading in between the lines I'm reading in between the lines (You got me reading in between the lines) I'm reading in between the lines (Even reading in between the lines) I'm reading in between the lines (You got me reading in between the lines) And I like it, baby And I like it, baby (Even reading in between the lines)  I don't mind (i don't really mind it baby) When we get silent Pressure's rising, it's so intense (When we get silent) We're making diamonds There's no need to say it baby (We're making diamonds) 'Cause I can tell you mean it All over the tip of your tongue (We're making diamonds) You got me spaced out And I like it, baby  I'm reading in between the lines I'm reading in between the lines (You got me reading in between the lines) I'm reading in between the lines (Even reading in between the lines) I'm reading in between the lines (You got me reading in between the lines) And I like it, baby And I like it, baby (Even reading in between the lines)  And I like it, baby And I like it And I like it, baby And I like it (Relax) (That's amazing) You got me reading in between the lines (That shit's so good) (Relax) You got me reading in between the lines (Amazing) \n",
      "\n",
      "Songs with Lowest Sentiment:\n",
      "Song: Don't Fucking Tell Me What To Do\n",
      "Lyrics:    My drinking is killing me My drinking is killing me My drinking is killing me My drinking is killing me My drinking is killing me My drinking is killing me My drinking is killing me My drinking is killing me My drinking is killing me My drinking is killing me My drinking is killing me My drinking is killing me My drinking is killing me My drinking is killing me My drinking is killing me  My smoking is killing me My diet is killing me My heels are killing me My shopping's killing me My ego is killing me Can't sleep, it's killing me My label's killing me Kickdrum  My phone is killing me My email is killing me These hours are killing me My tour is killing me This flight is killing me My manager's killing me My mother's killing me My landlord's killing me My boss is killing me The TV is killing me Your nagging is killing me My boyfriend's killing me My talking's killing me Killing me Killing me  Can't sleep, it's killing me My dreams are killing me TV is killing me My talking's killing me Let go, you're killing me Ease up, you're killing me Calm down, you're killing me My god, you're killing me  My drinking is killing me My smoking is killing me My head is killing me My mind is killing me My back is killing me My neck is killing me Your nagging is killing me My gut is killing me My PMS is killing me My email is killing me These hours are killing me My tour is killing me This flight is killing me My manager's killing me My mother's killing me My landlord's killing me My smoking is killing me The TV is killing me Your nagging is killing me Ease up, you're killing me Let go, you're killing me Calm down, you're killing me My god, you're killing me  Don't fucking tell me what to do, do Don't fucking tell me what to do, do, do, do, do Don't fucking tell me what to do Don't fucking tell me what to do, do Don't fucking tell me what to do, do Don't fucking tell me what to do Don't fucking tell me what to do Don't fucking tell me what to do Don't fucking tell me what to do \n",
      "\n",
      "Song: Criminal Intent\n",
      "Lyrics:    Somebody alert the authorities, I got criminal intent Conspiracy to engage in lewd and indecent acts and events I'mma wind it, grind it, oh my, I'mma say it again Somebody alert the authorities, she's got criminal intent  Somebody alert the authorities, I got criminal intent Conspiracy to engage in lewd and indecent acts and events I'mma wind it, grind it, oh my, I'mma say it again Somebody alert the authorities, she's got criminal intent  Somebody alert the authorities, I got criminal intent Conspiracy to engage in lewd and indecent acts and events I'mma wind it, grind it, oh my, I'mma say it again Somebody alert the authorities, I got criminal intent  - Will the defendant please rise? State your full name for the record. - Robyn - Do you wish to say anything before the sentence is imposed? - I do your Honor!  You know, from time to time I need to get down Unwind and just bump and grind Get my shot on, have some fun A little dirty never hurt anyone I admit, I can get somewhat X-rated on the floor But your Honor, how's that something you get incarcerated for?  I-I-I done nothing that's wrong  ?? something that's frowned upon I object most strongly Judge, they played my song  Somebody alert the authorities, I got criminal intent Conspiracy to engage in lewd and indecent acts and events I'mma wind it, grind it, oh my, I'mma say it again Somebody alert the authorities, she's got criminal intent  Somebody alert the authorities, I got criminal intent Conspiracy to engage in lewd and indecent acts and events I'mma wind it, grind it, oh my, I'mma say it again Somebody alert the authorities, I got criminal intent Somebody alert the authorities, she's got criminal intent  Y-yo-yo Judge, may the record reflect the fact  I don't have any priors Besides, would you pardon me  For being inappropriately attired? But yo, listen, them cuffs down at county Totally ripped up my pantyhose And some snitch punk at legal aid Stole my voucher for court clothes  I done nothing that's wrong  ?? something that's frowned upon I object most strongly Judge, they played my song  Somebody alert the authorities, I got criminal intent Conspiracy to engage in lewd and indecent acts and events I'mma wind it, grind it, oh my, I'mma say it again Somebody alert the authorities, she's got criminal intent  Somebody alert the authorities, I got criminal intent Conspiracy to engage in lewd and indecent acts and events I'mma wind it, grind it, oh my, I'mma say it again Somebody alert the authorities, I got criminal intent Somebody alert the authorities, she's got criminal intent \n",
      "\n",
      "Song: Crash And Burn Girl\n",
      "Lyrics:    I should write a song about you and all the shit that you do You don't even know what's up But soon it all comes crashing down on you Since we're on the subject tell me why your name's in the dictionary when I look up idiot Check yourself, it's very necessary  Get up shake your rump girl Cause this track is for you And baby this is not a love song  Stop listen what's that sound Supersonic spinning round You don't mind the fall  until your face hits the ground  Crash and burn girl goin' down down down down down Crash and burn girl You don't mind the fall  until your face hits the ground  You should have a sticker on you saying Warning Keep Out You're the kind of girl that'll mess you up for life that's smashing up his car crying on his doorstep waiting in the rain all night And did you tell him you're the kind that never show your ugly side until you sticking like glue Shit you even go down on him though he never do it for you Time to clear the runway for the  Stop listen what's that sound Supersonic spinning round You don't mind the fall  until your face hits the ground  It's just that every time you mess it up like that I see myself in you I've been there too And there's so many times I stand beside and see what you are going through Where you're headed to  Crash and burn girl goin' down down down down Crash and burn girl You don't mind the fall  until your face hits the ground  Crash and burn girl You keep on banging your head Girl your shirt's all red  Crash and burn girl You don't mind the fall  until your face hits the ground \n",
      "\n"
     ]
    }
   ],
   "source": [
    "first_artist = lyrics_data['artist'].unique()[0]  # Get the name of the first artist\n",
    "artist_data = lyrics_data[lyrics_data['artist'] == first_artist]  # Filter data for the first artist\n",
    "\n",
    "# Sort the songs based on sentiment score\n",
    "highest_sentiment_songs = artist_data.nlargest(3, 'sentiment')\n",
    "lowest_sentiment_songs = artist_data.nsmallest(3, 'sentiment')\n",
    "\n",
    "# Lyrics of the songs with the highest sentiment\n",
    "print(\"Songs with Highest Sentiment:\")\n",
    "\n",
    "for index, row in highest_sentiment_songs.iterrows():\n",
    "    print(\"Song:\", row['song'])\n",
    "    print(\"Lyrics:\", row['lyrics'])\n",
    "    print()\n",
    "\n",
    "# Lyrics of the songs with the lowest sentiment\n",
    "print(\"Songs with Lowest Sentiment:\")\n",
    "\n",
    "for index, row in lowest_sentiment_songs.iterrows():\n",
    "    print(\"Song:\", row['song'])\n",
    "    print(\"Lyrics:\", row['lyrics'])\n",
    "    print()"
   ]
  },
  {
   "cell_type": "code",
   "execution_count": 90,
   "id": "7275258a",
   "metadata": {},
   "outputs": [
    {
     "name": "stdout",
     "output_type": "stream",
     "text": [
      "Songs with Highest Sentiment:\n",
      "Song: My Love\n",
      "Lyrics:    When I go away I know my heart can stay with my love It's understood Everywhere with my love My love does it good, whoa My love, oh only my love My love does it good  And when the cupboard's bare I'll still find something there with my love It's understood Everywhere with my love My love does it so good, whoa My love, oh only my love My love does it good  Only my love, oh only my love Only my love, hold the other things to me Oh, only my love, oh only my love Only my love does it good to me  Everywhere with my love Don't you see my love It does it so good Oh, only my love, only my love My love does it good  Don't ever ask me why I never say \"good-bye\" to my love It's understood 'Cause everywhere with my love My love does it good, whoa Only my love, oh only my love My love does it good  Oh only my love Only my love does it good to me,whoa \n",
      "\n",
      "Song: Sunny\n",
      "Lyrics:    Sunny, yesterday my life was filled with rain Sunny, you smiled at me and then it eased my pain Now the dark days are gone and bright days are here My Sunny once shined so sincere, Sunny once so true I love you I love you  Sunny thank you for the sunshine you gave to me Sunny thank you for the love you brought my way You gave to me your all and all And now I feel that I'm 10 feet tall Sunny once so true, I love you  Sunny thank you for the truth that you let me see Sunny thank you for the facts from A to Z Somehow I was torn like a wind blown sail Then our love was borned when you held my hand Sunny once so true, I love you  Sunny thank you for the sunshine you gave to me Sunny thank you for the love you brought my way You gave to me your all and all And now I feel that I'm 10 feet tall Sunny once so true, I love you \n",
      "\n",
      "Song: Do You Believe In Magic\n",
      "Lyrics:    Do you believe in magic In a young girl's heart How the music can free her Whenever it starts And it's magic If the music is groovy And it makes you feel happy Like an old time movie I'll tell you about the magic That'll free your soul But it's like trying to tell a stranger About a rock 'n' roll If you believe in magic  Don't bother to choose If it's jug band music Or rhythm and blues Just go and listen It'll start with a smile That won't wipe off your face No matter how hard you try Your feet start tapping And you can't seem to find How you got there So just go blow your mind  If you believe in magic Come along with me We'll dance until morning 'Til there's just you and me And maybe if the music is right I'll meet you tomorrow And we'll go late at night And we'll go out dancing Baby, then you'll see How the magic's in the music And the music's in me, yeah Do you believe in magic  Believe in the magic of a young girl's soul Believe in the magic of a rock 'n' roll Believe in the magic that will set you free Do you believe like I believe Do you believe like I believe Do you believe like I believe Do you believe like I believe \n",
      "\n",
      "Songs with Lowest Sentiment:\n",
      "Song: I Walk On Guilded Splinters\n",
      "Lyrics:    Some people think they jive me, but I know they must be crazy They can't see their misfortune, or else they're just too lazy Je suie le grand zombie With my yellow chaffen of choisen Ain't afraid of no tomcat and gonna fill my guts with poison I walk through the fire And I'll fly through the smoke I wanna see my enemies On the end of my rope Walk on pins and needles And I see what they can do Walk on guilded splinters With the King of the Zulu  Come to me, get it, come, come Walk on guilded splinters Come to me, get it, come, come Walk on guilded splinters Till I burn up Till I burn up Till I burn up Till I burn up  When I roll out in my coffin Drink poison in my chalice Pride begins to fade And you all feel my malice I put gris-gris on your doorstep So soon you be in the gutter I'll make your heart melt like butter I say I can make you stutter  Come to me, get it, come, come Walk on guilded splinters Come to me, get it, come, come Walk on guilded splinters Till I burn up Till I burn up Till I burn up Till I burn up  Come to me, get it, come, come Walk on guilded splinters Come to me, get it, come, come Walk on guilded splinters Till I burn up Till I burn up Till I burn up Till I burn up  Come to me, get it, come, come Walk on guilded splinters Come to me, get it, come, come Walk on guilded splinters Till I burn up Till I burn up Till I burn up Till I burn up \n",
      "\n",
      "Song: Bang Bang (My Baby Shot Me Down)\n",
      "Lyrics:    I was five and he was six We rode on horses made of sticks He wore black and I wore white He would always win the fight  Bang bang, he shot me down Bang bang, I hit the ground Bang bang, that awful sound Bang bang, my baby shot me down  Seasons came and changed the time When I grew up I called him mine He would always laugh and say Remember when we used to play  Bang bang, I shot you down Bang bang, you hit the ground Bang bang, that awful sound Bang bang, I used to shoot you down  Music played and people sang Just for me the church bells rang  Now he's gone I don't know why And 'til this day, sometimes I cry He didn't even say goodbye He didn't take the time to lie  Bang bang, he shot me down Bang bang, I hit the ground Bang bang, that awful sound Bang bang, my baby shot me down \n",
      "\n",
      "Song: Bell Bottom Blues\n",
      "Lyrics:    Bell bottom blues you made me cry  And I don't want to lose this feeling  And if I could choose a place to die  Oh, it would be in your arms   Do you want to see me crawl  Across the floor to you (do ya wanna)  And do you want to hear me  Beg you to take me back  I'm beggin' baby  Cause I don't want to fade away  Give me one more day,  Please I don't want to fade away  I don't want to fade away  In your arms I wanna stay   It's all wrong but it's all right  The way that you do me, baby  Once I was strong, but I lost the fight  Whoa, and you won't find a better loser   Do you want to see me crawl  Across the floor to you (do ya wanna)  And do you want to hear me  Beg you to take me back  I'm beggin' baby  Cause I don't want to fade away  Give me one more day,  Please I don't want to fade away  I don't want to fade away  In your arms I wanna stay   Bell bottom blues don't you say goodbye  Sure we're gonna meet again  And if we, when you do  Don't you be surprised  If you find me with another lover   Do you want to see me crawl  Across the floor to you (do ya wanna)  And do you want to hear me  Beg you to take me back  I'm beggin' baby  Cause I don't want to fade away  Give me one more day,  Please I don't want to fade away  I don't want to fade away  In your arms I wanna stay   Won't you  Won't you give me one more day, please \n",
      "\n"
     ]
    }
   ],
   "source": [
    "second_artist = lyrics_data['artist'].unique()[1]  # Get the name of the second artist\n",
    "artist_data = lyrics_data[lyrics_data['artist'] == second_artist]  # Filter data for the second artist\n",
    "\n",
    "# Sort the songs based on sentiment score\n",
    "highest_sentiment_songs = artist_data.nlargest(3, 'sentiment')\n",
    "lowest_sentiment_songs = artist_data.nsmallest(3, 'sentiment')\n",
    "\n",
    "# Print lyrics of the songs with the highest sentiment\n",
    "print(\"Songs with Highest Sentiment:\")\n",
    "\n",
    "for index, row in highest_sentiment_songs.iterrows():\n",
    "    print(\"Song:\", row['song'])\n",
    "    print(\"Lyrics:\", row['lyrics'])\n",
    "    print()\n",
    "\n",
    "# Print lyrics of the songs with the lowest sentiment\n",
    "print(\"Songs with Lowest Sentiment:\")\n",
    "\n",
    "for index, row in lowest_sentiment_songs.iterrows():\n",
    "    print(\"Song:\", row['song'])\n",
    "    print(\"Lyrics:\", row['lyrics'])\n",
    "    print()"
   ]
  },
  {
   "cell_type": "code",
   "execution_count": 99,
   "id": "dad7f2fb",
   "metadata": {},
   "outputs": [
    {
     "data": {
      "text/html": [
       "<div>\n",
       "<style scoped>\n",
       "    .dataframe tbody tr th:only-of-type {\n",
       "        vertical-align: middle;\n",
       "    }\n",
       "\n",
       "    .dataframe tbody tr th {\n",
       "        vertical-align: top;\n",
       "    }\n",
       "\n",
       "    .dataframe thead th {\n",
       "        text-align: right;\n",
       "    }\n",
       "</style>\n",
       "<table border=\"1\" class=\"dataframe\">\n",
       "  <thead>\n",
       "    <tr style=\"text-align: right;\">\n",
       "      <th></th>\n",
       "      <th>artist</th>\n",
       "      <th>song</th>\n",
       "      <th>lyrics</th>\n",
       "      <th>sentiment</th>\n",
       "    </tr>\n",
       "  </thead>\n",
       "  <tbody>\n",
       "    <tr>\n",
       "      <th>0</th>\n",
       "      <td>robyn</td>\n",
       "      <td>Include Me Out</td>\n",
       "      <td>It is really very simple Just a single puls...</td>\n",
       "      <td>9</td>\n",
       "    </tr>\n",
       "    <tr>\n",
       "      <th>1</th>\n",
       "      <td>robyn</td>\n",
       "      <td>Electric</td>\n",
       "      <td>Electric...  It's electric It's a natural h...</td>\n",
       "      <td>20</td>\n",
       "    </tr>\n",
       "    <tr>\n",
       "      <th>2</th>\n",
       "      <td>robyn</td>\n",
       "      <td>Beach 2K20</td>\n",
       "      <td>(So you wanna go out? How you gonna get the...</td>\n",
       "      <td>24</td>\n",
       "    </tr>\n",
       "    <tr>\n",
       "      <th>3</th>\n",
       "      <td>robyn</td>\n",
       "      <td>Love Kills</td>\n",
       "      <td>If you're looking for love Get a heart made...</td>\n",
       "      <td>-16</td>\n",
       "    </tr>\n",
       "    <tr>\n",
       "      <th>4</th>\n",
       "      <td>robyn</td>\n",
       "      <td>Time Machine</td>\n",
       "      <td>Hey, what did I do? Can't believe the fit I...</td>\n",
       "      <td>-5</td>\n",
       "    </tr>\n",
       "    <tr>\n",
       "      <th>...</th>\n",
       "      <td>...</td>\n",
       "      <td>...</td>\n",
       "      <td>...</td>\n",
       "      <td>...</td>\n",
       "    </tr>\n",
       "    <tr>\n",
       "      <th>245</th>\n",
       "      <td>cher</td>\n",
       "      <td>Chastity's Song (Band Of Thieves)</td>\n",
       "      <td>Wind up when a band of thieves Making my wa...</td>\n",
       "      <td>16</td>\n",
       "    </tr>\n",
       "    <tr>\n",
       "      <th>246</th>\n",
       "      <td>cher</td>\n",
       "      <td>This God-Forsaken Day</td>\n",
       "      <td>Read your note this mornin'. 'bye-bye girl'...</td>\n",
       "      <td>1</td>\n",
       "    </tr>\n",
       "    <tr>\n",
       "      <th>247</th>\n",
       "      <td>cher</td>\n",
       "      <td>Time</td>\n",
       "      <td>Some people run  Some people crawl  Some pe...</td>\n",
       "      <td>8</td>\n",
       "    </tr>\n",
       "    <tr>\n",
       "      <th>248</th>\n",
       "      <td>cher</td>\n",
       "      <td>Dream Baby</td>\n",
       "      <td>I found the boy for me He's my dream baby  ...</td>\n",
       "      <td>25</td>\n",
       "    </tr>\n",
       "    <tr>\n",
       "      <th>249</th>\n",
       "      <td>cher</td>\n",
       "      <td>Please Don't Tell Me</td>\n",
       "      <td>Ya shook the override  Why'd I get this far...</td>\n",
       "      <td>0</td>\n",
       "    </tr>\n",
       "  </tbody>\n",
       "</table>\n",
       "<p>250 rows × 4 columns</p>\n",
       "</div>"
      ],
      "text/plain": [
       "    artist                               song  \\\n",
       "0    robyn                     Include Me Out   \n",
       "1    robyn                           Electric   \n",
       "2    robyn                         Beach 2K20   \n",
       "3    robyn                         Love Kills   \n",
       "4    robyn                       Time Machine   \n",
       "..     ...                                ...   \n",
       "245   cher  Chastity's Song (Band Of Thieves)   \n",
       "246   cher              This God-Forsaken Day   \n",
       "247   cher                               Time   \n",
       "248   cher                         Dream Baby   \n",
       "249   cher               Please Don't Tell Me   \n",
       "\n",
       "                                                lyrics  sentiment  \n",
       "0       It is really very simple Just a single puls...          9  \n",
       "1       Electric...  It's electric It's a natural h...         20  \n",
       "2       (So you wanna go out? How you gonna get the...         24  \n",
       "3       If you're looking for love Get a heart made...        -16  \n",
       "4       Hey, what did I do? Can't believe the fit I...         -5  \n",
       "..                                                 ...        ...  \n",
       "245     Wind up when a band of thieves Making my wa...         16  \n",
       "246     Read your note this mornin'. 'bye-bye girl'...          1  \n",
       "247     Some people run  Some people crawl  Some pe...          8  \n",
       "248     I found the boy for me He's my dream baby  ...         25  \n",
       "249     Ya shook the override  Why'd I get this far...          0  \n",
       "\n",
       "[250 rows x 4 columns]"
      ]
     },
     "execution_count": 99,
     "metadata": {},
     "output_type": "execute_result"
    }
   ],
   "source": [
    "lyrics_data"
   ]
  },
  {
   "cell_type": "code",
   "execution_count": 116,
   "id": "caf19592",
   "metadata": {},
   "outputs": [
    {
     "ename": "OptionError",
     "evalue": "\"No such keys(s): 'mode.use_inf_as_null'\"",
     "output_type": "error",
     "traceback": [
      "\u001b[0;31m---------------------------------------------------------------------------\u001b[0m",
      "\u001b[0;31mOptionError\u001b[0m                               Traceback (most recent call last)",
      "\u001b[0;32m/var/folders/x2/pjz88byd2sjdw_rx5hrx64rr0000gn/T/ipykernel_45570/1069163544.py\u001b[0m in \u001b[0;36m<module>\u001b[0;34m\u001b[0m\n\u001b[1;32m      1\u001b[0m \u001b[0;31m# Plot distirbution\u001b[0m\u001b[0;34m\u001b[0m\u001b[0;34m\u001b[0m\u001b[0m\n\u001b[0;32m----> 2\u001b[0;31m \u001b[0msns\u001b[0m\u001b[0;34m.\u001b[0m\u001b[0mhistplot\u001b[0m\u001b[0;34m(\u001b[0m\u001b[0mdata\u001b[0m\u001b[0;34m=\u001b[0m\u001b[0mlyrics_data\u001b[0m\u001b[0;34m,\u001b[0m \u001b[0mx\u001b[0m\u001b[0;34m=\u001b[0m\u001b[0;34m'sentiment'\u001b[0m\u001b[0;34m)\u001b[0m\u001b[0;34m\u001b[0m\u001b[0;34m\u001b[0m\u001b[0m\n\u001b[0m\u001b[1;32m      3\u001b[0m \u001b[0mplt\u001b[0m\u001b[0;34m.\u001b[0m\u001b[0mshow\u001b[0m\u001b[0;34m(\u001b[0m\u001b[0;34m)\u001b[0m\u001b[0;34m\u001b[0m\u001b[0;34m\u001b[0m\u001b[0m\n",
      "\u001b[0;32m~/opt/anaconda3/lib/python3.9/site-packages/seaborn/distributions.py\u001b[0m in \u001b[0;36mhistplot\u001b[0;34m(data, x, y, hue, weights, stat, bins, binwidth, binrange, discrete, cumulative, common_bins, common_norm, multiple, element, fill, shrink, kde, kde_kws, line_kws, thresh, pthresh, pmax, cbar, cbar_ax, cbar_kws, palette, hue_order, hue_norm, color, log_scale, legend, ax, **kwargs)\u001b[0m\n\u001b[1;32m   1460\u001b[0m     \u001b[0;32mif\u001b[0m \u001b[0mp\u001b[0m\u001b[0;34m.\u001b[0m\u001b[0munivariate\u001b[0m\u001b[0;34m:\u001b[0m\u001b[0;34m\u001b[0m\u001b[0;34m\u001b[0m\u001b[0m\n\u001b[1;32m   1461\u001b[0m \u001b[0;34m\u001b[0m\u001b[0m\n\u001b[0;32m-> 1462\u001b[0;31m         p.plot_univariate_histogram(\n\u001b[0m\u001b[1;32m   1463\u001b[0m             \u001b[0mmultiple\u001b[0m\u001b[0;34m=\u001b[0m\u001b[0mmultiple\u001b[0m\u001b[0;34m,\u001b[0m\u001b[0;34m\u001b[0m\u001b[0;34m\u001b[0m\u001b[0m\n\u001b[1;32m   1464\u001b[0m             \u001b[0melement\u001b[0m\u001b[0;34m=\u001b[0m\u001b[0melement\u001b[0m\u001b[0;34m,\u001b[0m\u001b[0;34m\u001b[0m\u001b[0;34m\u001b[0m\u001b[0m\n",
      "\u001b[0;32m~/opt/anaconda3/lib/python3.9/site-packages/seaborn/distributions.py\u001b[0m in \u001b[0;36mplot_univariate_histogram\u001b[0;34m(self, multiple, element, fill, common_norm, common_bins, shrink, kde, kde_kws, color, legend, line_kws, estimate_kws, **plot_kws)\u001b[0m\n\u001b[1;32m    426\u001b[0m \u001b[0;34m\u001b[0m\u001b[0m\n\u001b[1;32m    427\u001b[0m         \u001b[0;31m# First pass through the data to compute the histograms\u001b[0m\u001b[0;34m\u001b[0m\u001b[0;34m\u001b[0m\u001b[0m\n\u001b[0;32m--> 428\u001b[0;31m         \u001b[0;32mfor\u001b[0m \u001b[0msub_vars\u001b[0m\u001b[0;34m,\u001b[0m \u001b[0msub_data\u001b[0m \u001b[0;32min\u001b[0m \u001b[0mself\u001b[0m\u001b[0;34m.\u001b[0m\u001b[0miter_data\u001b[0m\u001b[0;34m(\u001b[0m\u001b[0;34m\"hue\"\u001b[0m\u001b[0;34m,\u001b[0m \u001b[0mfrom_comp_data\u001b[0m\u001b[0;34m=\u001b[0m\u001b[0;32mTrue\u001b[0m\u001b[0;34m)\u001b[0m\u001b[0;34m:\u001b[0m\u001b[0;34m\u001b[0m\u001b[0;34m\u001b[0m\u001b[0m\n\u001b[0m\u001b[1;32m    429\u001b[0m \u001b[0;34m\u001b[0m\u001b[0m\n\u001b[1;32m    430\u001b[0m             \u001b[0;31m# Prepare the relevant data\u001b[0m\u001b[0;34m\u001b[0m\u001b[0;34m\u001b[0m\u001b[0m\n",
      "\u001b[0;32m~/opt/anaconda3/lib/python3.9/site-packages/seaborn/_core.py\u001b[0m in \u001b[0;36miter_data\u001b[0;34m(self, grouping_vars, reverse, from_comp_data)\u001b[0m\n\u001b[1;32m    981\u001b[0m \u001b[0;34m\u001b[0m\u001b[0m\n\u001b[1;32m    982\u001b[0m         \u001b[0;32mif\u001b[0m \u001b[0mfrom_comp_data\u001b[0m\u001b[0;34m:\u001b[0m\u001b[0;34m\u001b[0m\u001b[0;34m\u001b[0m\u001b[0m\n\u001b[0;32m--> 983\u001b[0;31m             \u001b[0mdata\u001b[0m \u001b[0;34m=\u001b[0m \u001b[0mself\u001b[0m\u001b[0;34m.\u001b[0m\u001b[0mcomp_data\u001b[0m\u001b[0;34m\u001b[0m\u001b[0;34m\u001b[0m\u001b[0m\n\u001b[0m\u001b[1;32m    984\u001b[0m         \u001b[0;32melse\u001b[0m\u001b[0;34m:\u001b[0m\u001b[0;34m\u001b[0m\u001b[0;34m\u001b[0m\u001b[0m\n\u001b[1;32m    985\u001b[0m             \u001b[0mdata\u001b[0m \u001b[0;34m=\u001b[0m \u001b[0mself\u001b[0m\u001b[0;34m.\u001b[0m\u001b[0mplot_data\u001b[0m\u001b[0;34m\u001b[0m\u001b[0;34m\u001b[0m\u001b[0m\n",
      "\u001b[0;32m~/opt/anaconda3/lib/python3.9/site-packages/seaborn/_core.py\u001b[0m in \u001b[0;36mcomp_data\u001b[0;34m(self)\u001b[0m\n\u001b[1;32m   1052\u001b[0m                 \u001b[0;31m# Use the converter assigned to the axis to get a float representation\u001b[0m\u001b[0;34m\u001b[0m\u001b[0;34m\u001b[0m\u001b[0m\n\u001b[1;32m   1053\u001b[0m                 \u001b[0;31m# of the data, passing np.nan or pd.NA through (pd.NA becomes np.nan)\u001b[0m\u001b[0;34m\u001b[0m\u001b[0;34m\u001b[0m\u001b[0m\n\u001b[0;32m-> 1054\u001b[0;31m                 \u001b[0;32mwith\u001b[0m \u001b[0mpd\u001b[0m\u001b[0;34m.\u001b[0m\u001b[0moption_context\u001b[0m\u001b[0;34m(\u001b[0m\u001b[0;34m'mode.use_inf_as_null'\u001b[0m\u001b[0;34m,\u001b[0m \u001b[0;32mTrue\u001b[0m\u001b[0;34m)\u001b[0m\u001b[0;34m:\u001b[0m\u001b[0;34m\u001b[0m\u001b[0;34m\u001b[0m\u001b[0m\n\u001b[0m\u001b[1;32m   1055\u001b[0m                     \u001b[0morig\u001b[0m \u001b[0;34m=\u001b[0m \u001b[0mself\u001b[0m\u001b[0;34m.\u001b[0m\u001b[0mplot_data\u001b[0m\u001b[0;34m[\u001b[0m\u001b[0mvar\u001b[0m\u001b[0;34m]\u001b[0m\u001b[0;34m.\u001b[0m\u001b[0mdropna\u001b[0m\u001b[0;34m(\u001b[0m\u001b[0;34m)\u001b[0m\u001b[0;34m\u001b[0m\u001b[0;34m\u001b[0m\u001b[0m\n\u001b[1;32m   1056\u001b[0m                 \u001b[0mcomp_col\u001b[0m \u001b[0;34m=\u001b[0m \u001b[0mpd\u001b[0m\u001b[0;34m.\u001b[0m\u001b[0mSeries\u001b[0m\u001b[0;34m(\u001b[0m\u001b[0mindex\u001b[0m\u001b[0;34m=\u001b[0m\u001b[0morig\u001b[0m\u001b[0;34m.\u001b[0m\u001b[0mindex\u001b[0m\u001b[0;34m,\u001b[0m \u001b[0mdtype\u001b[0m\u001b[0;34m=\u001b[0m\u001b[0mfloat\u001b[0m\u001b[0;34m,\u001b[0m \u001b[0mname\u001b[0m\u001b[0;34m=\u001b[0m\u001b[0mvar\u001b[0m\u001b[0;34m)\u001b[0m\u001b[0;34m\u001b[0m\u001b[0;34m\u001b[0m\u001b[0m\n",
      "\u001b[0;32m~/opt/anaconda3/lib/python3.9/site-packages/pandas/_config/config.py\u001b[0m in \u001b[0;36m__enter__\u001b[0;34m(self)\u001b[0m\n\u001b[1;32m    439\u001b[0m \u001b[0;34m\u001b[0m\u001b[0m\n\u001b[1;32m    440\u001b[0m     \u001b[0;32mdef\u001b[0m \u001b[0m__enter__\u001b[0m\u001b[0;34m(\u001b[0m\u001b[0mself\u001b[0m\u001b[0;34m)\u001b[0m \u001b[0;34m->\u001b[0m \u001b[0;32mNone\u001b[0m\u001b[0;34m:\u001b[0m\u001b[0;34m\u001b[0m\u001b[0;34m\u001b[0m\u001b[0m\n\u001b[0;32m--> 441\u001b[0;31m         \u001b[0mself\u001b[0m\u001b[0;34m.\u001b[0m\u001b[0mundo\u001b[0m \u001b[0;34m=\u001b[0m \u001b[0;34m[\u001b[0m\u001b[0;34m(\u001b[0m\u001b[0mpat\u001b[0m\u001b[0;34m,\u001b[0m \u001b[0m_get_option\u001b[0m\u001b[0;34m(\u001b[0m\u001b[0mpat\u001b[0m\u001b[0;34m,\u001b[0m \u001b[0msilent\u001b[0m\u001b[0;34m=\u001b[0m\u001b[0;32mTrue\u001b[0m\u001b[0;34m)\u001b[0m\u001b[0;34m)\u001b[0m \u001b[0;32mfor\u001b[0m \u001b[0mpat\u001b[0m\u001b[0;34m,\u001b[0m \u001b[0mval\u001b[0m \u001b[0;32min\u001b[0m \u001b[0mself\u001b[0m\u001b[0;34m.\u001b[0m\u001b[0mops\u001b[0m\u001b[0;34m]\u001b[0m\u001b[0;34m\u001b[0m\u001b[0;34m\u001b[0m\u001b[0m\n\u001b[0m\u001b[1;32m    442\u001b[0m \u001b[0;34m\u001b[0m\u001b[0m\n\u001b[1;32m    443\u001b[0m         \u001b[0;32mfor\u001b[0m \u001b[0mpat\u001b[0m\u001b[0;34m,\u001b[0m \u001b[0mval\u001b[0m \u001b[0;32min\u001b[0m \u001b[0mself\u001b[0m\u001b[0;34m.\u001b[0m\u001b[0mops\u001b[0m\u001b[0;34m:\u001b[0m\u001b[0;34m\u001b[0m\u001b[0;34m\u001b[0m\u001b[0m\n",
      "\u001b[0;32m~/opt/anaconda3/lib/python3.9/site-packages/pandas/_config/config.py\u001b[0m in \u001b[0;36m<listcomp>\u001b[0;34m(.0)\u001b[0m\n\u001b[1;32m    439\u001b[0m \u001b[0;34m\u001b[0m\u001b[0m\n\u001b[1;32m    440\u001b[0m     \u001b[0;32mdef\u001b[0m \u001b[0m__enter__\u001b[0m\u001b[0;34m(\u001b[0m\u001b[0mself\u001b[0m\u001b[0;34m)\u001b[0m \u001b[0;34m->\u001b[0m \u001b[0;32mNone\u001b[0m\u001b[0;34m:\u001b[0m\u001b[0;34m\u001b[0m\u001b[0;34m\u001b[0m\u001b[0m\n\u001b[0;32m--> 441\u001b[0;31m         \u001b[0mself\u001b[0m\u001b[0;34m.\u001b[0m\u001b[0mundo\u001b[0m \u001b[0;34m=\u001b[0m \u001b[0;34m[\u001b[0m\u001b[0;34m(\u001b[0m\u001b[0mpat\u001b[0m\u001b[0;34m,\u001b[0m \u001b[0m_get_option\u001b[0m\u001b[0;34m(\u001b[0m\u001b[0mpat\u001b[0m\u001b[0;34m,\u001b[0m \u001b[0msilent\u001b[0m\u001b[0;34m=\u001b[0m\u001b[0;32mTrue\u001b[0m\u001b[0;34m)\u001b[0m\u001b[0;34m)\u001b[0m \u001b[0;32mfor\u001b[0m \u001b[0mpat\u001b[0m\u001b[0;34m,\u001b[0m \u001b[0mval\u001b[0m \u001b[0;32min\u001b[0m \u001b[0mself\u001b[0m\u001b[0;34m.\u001b[0m\u001b[0mops\u001b[0m\u001b[0;34m]\u001b[0m\u001b[0;34m\u001b[0m\u001b[0;34m\u001b[0m\u001b[0m\n\u001b[0m\u001b[1;32m    442\u001b[0m \u001b[0;34m\u001b[0m\u001b[0m\n\u001b[1;32m    443\u001b[0m         \u001b[0;32mfor\u001b[0m \u001b[0mpat\u001b[0m\u001b[0;34m,\u001b[0m \u001b[0mval\u001b[0m \u001b[0;32min\u001b[0m \u001b[0mself\u001b[0m\u001b[0;34m.\u001b[0m\u001b[0mops\u001b[0m\u001b[0;34m:\u001b[0m\u001b[0;34m\u001b[0m\u001b[0;34m\u001b[0m\u001b[0m\n",
      "\u001b[0;32m~/opt/anaconda3/lib/python3.9/site-packages/pandas/_config/config.py\u001b[0m in \u001b[0;36m_get_option\u001b[0;34m(pat, silent)\u001b[0m\n\u001b[1;32m    133\u001b[0m \u001b[0;34m\u001b[0m\u001b[0m\n\u001b[1;32m    134\u001b[0m \u001b[0;32mdef\u001b[0m \u001b[0m_get_option\u001b[0m\u001b[0;34m(\u001b[0m\u001b[0mpat\u001b[0m\u001b[0;34m:\u001b[0m \u001b[0mstr\u001b[0m\u001b[0;34m,\u001b[0m \u001b[0msilent\u001b[0m\u001b[0;34m:\u001b[0m \u001b[0mbool\u001b[0m \u001b[0;34m=\u001b[0m \u001b[0;32mFalse\u001b[0m\u001b[0;34m)\u001b[0m \u001b[0;34m->\u001b[0m \u001b[0mAny\u001b[0m\u001b[0;34m:\u001b[0m\u001b[0;34m\u001b[0m\u001b[0;34m\u001b[0m\u001b[0m\n\u001b[0;32m--> 135\u001b[0;31m     \u001b[0mkey\u001b[0m \u001b[0;34m=\u001b[0m \u001b[0m_get_single_key\u001b[0m\u001b[0;34m(\u001b[0m\u001b[0mpat\u001b[0m\u001b[0;34m,\u001b[0m \u001b[0msilent\u001b[0m\u001b[0;34m)\u001b[0m\u001b[0;34m\u001b[0m\u001b[0;34m\u001b[0m\u001b[0m\n\u001b[0m\u001b[1;32m    136\u001b[0m \u001b[0;34m\u001b[0m\u001b[0m\n\u001b[1;32m    137\u001b[0m     \u001b[0;31m# walk the nested dict\u001b[0m\u001b[0;34m\u001b[0m\u001b[0;34m\u001b[0m\u001b[0m\n",
      "\u001b[0;32m~/opt/anaconda3/lib/python3.9/site-packages/pandas/_config/config.py\u001b[0m in \u001b[0;36m_get_single_key\u001b[0;34m(pat, silent)\u001b[0m\n\u001b[1;32m    119\u001b[0m         \u001b[0;32mif\u001b[0m \u001b[0;32mnot\u001b[0m \u001b[0msilent\u001b[0m\u001b[0;34m:\u001b[0m\u001b[0;34m\u001b[0m\u001b[0;34m\u001b[0m\u001b[0m\n\u001b[1;32m    120\u001b[0m             \u001b[0m_warn_if_deprecated\u001b[0m\u001b[0;34m(\u001b[0m\u001b[0mpat\u001b[0m\u001b[0;34m)\u001b[0m\u001b[0;34m\u001b[0m\u001b[0;34m\u001b[0m\u001b[0m\n\u001b[0;32m--> 121\u001b[0;31m         \u001b[0;32mraise\u001b[0m \u001b[0mOptionError\u001b[0m\u001b[0;34m(\u001b[0m\u001b[0;34mf\"No such keys(s): {repr(pat)}\"\u001b[0m\u001b[0;34m)\u001b[0m\u001b[0;34m\u001b[0m\u001b[0;34m\u001b[0m\u001b[0m\n\u001b[0m\u001b[1;32m    122\u001b[0m     \u001b[0;32mif\u001b[0m \u001b[0mlen\u001b[0m\u001b[0;34m(\u001b[0m\u001b[0mkeys\u001b[0m\u001b[0;34m)\u001b[0m \u001b[0;34m>\u001b[0m \u001b[0;36m1\u001b[0m\u001b[0;34m:\u001b[0m\u001b[0;34m\u001b[0m\u001b[0;34m\u001b[0m\u001b[0m\n\u001b[1;32m    123\u001b[0m         \u001b[0;32mraise\u001b[0m \u001b[0mOptionError\u001b[0m\u001b[0;34m(\u001b[0m\u001b[0;34m\"Pattern matched multiple keys\"\u001b[0m\u001b[0;34m)\u001b[0m\u001b[0;34m\u001b[0m\u001b[0;34m\u001b[0m\u001b[0m\n",
      "\u001b[0;31mOptionError\u001b[0m: \"No such keys(s): 'mode.use_inf_as_null'\""
     ]
    },
    {
     "data": {
      "image/png": "[encoded data removed]",
      "text/plain": [
       "<Figure size 432x288 with 1 Axes>"
      ]
     },
     "metadata": {
      "needs_background": "light"
     },
     "output_type": "display_data"
    }
   ],
   "source": [
    "# Plot distirbution\n",
    "sns.histplot(data=lyrics_data, x='sentiment')\n",
    "plt.show()"
   ]
  },
  {
   "cell_type": "code",
   "execution_count": null,
   "id": "bf6d95ae",
   "metadata": {},
   "outputs": [],
   "source": []
  },
  {
   "cell_type": "markdown",
   "id": "1f8334f4",
   "metadata": {},
   "source": [
    "### Questions\n",
    "\n",
    "Q: Overall, which artist has the higher average sentiment per song? \n",
    "\n",
    "A: The artist with the highest sentiment value per song is Robyn with an average value of 8.2. Due to this score, we see it moving in a more positive location. \n",
    "\n",
    "---\n",
    "\n",
    "Q: For your first artist, what are the three songs that have the highest and lowest sentiments? Print the lyrics of those songs to the screen. What do you think is driving the sentiment score? \n",
    "\n",
    "A: A lot of this music's lyrics seem to feature more upbeat words. It is possible that this is the reason that the sentiment score is up. \n",
    "\n",
    "---\n",
    "\n",
    "Q: For your second artist, what are the three songs that have the highest and lowest sentiments? Print the lyrics of those songs to the screen. What do you think is driving the sentiment score? \n",
    "\n",
    "A: As before, the sentiment score could be driven by the words being used in the lyrics. \n",
    "\n",
    "---\n",
    "\n",
    "Q: Plot the distributions of the sentiment scores for both artists. You can use `seaborn` to plot densities or plot histograms in matplotlib.\n",
    "\n",
    "\n"
   ]
  },
  {
   "cell_type": "markdown",
   "id": "b3fe644d",
   "metadata": {},
   "source": [
    "## Sentiment Analysis on Twitter Descriptions\n",
    "\n",
    "In this section, define two sets of emojis you designate as positive and negative. Make sure to have at least 10 emojis per set. You can learn about the most popular emojis on Twitter at [the emojitracker](https://emojitracker.com/). \n",
    "\n",
    "Associate your positive emojis with a score of +1, negative with -1. Score the average sentiment of your two artists based on the Twitter descriptions of their followers. The average sentiment can just be the total score divided by number of followers. You do not need to calculate sentiment on non-emoji content for this section."
   ]
  },
  {
   "cell_type": "code",
   "execution_count": 120,
   "id": "1a5c1d25",
   "metadata": {},
   "outputs": [
    {
     "name": "stdout",
     "output_type": "stream",
     "text": [
      "['😊', '😄', '🙂', '😍', '👍', '🥳', '💃', '🌟', '✨', '🎉']\n",
      "['😔', '😞', '😢', '😒', '👎', '😠', '😕', '😣', '😭', '🙁']\n"
     ]
    }
   ],
   "source": [
    "# your code here\n",
    "positive_emojis = ['😊', '😄', '🙂', '😍', '👍', '🥳', '💃', '🌟', '✨', '🎉']\n",
    "negative_emojis = ['😔', '😞', '😢', '😒', '👎', '😠', '😕', '😣', '😭', '🙁']\n",
    "\n",
    "print(positive_emojis)\n",
    "print(negative_emojis)"
   ]
  },
  {
   "cell_type": "code",
   "execution_count": 121,
   "id": "f3e2acea",
   "metadata": {},
   "outputs": [],
   "source": [
    "emojis_sentiment = dict(zip(positive_emojis, [1]*10))\n",
    "emojis_sentiment.update(dict(zip(negative_emojis, [-1]*10)))"
   ]
  },
  {
   "cell_type": "code",
   "execution_count": 122,
   "id": "bb54e63a",
   "metadata": {},
   "outputs": [
    {
     "data": {
      "text/plain": [
       "{'😊': 1,\n",
       " '😄': 1,\n",
       " '🙂': 1,\n",
       " '😍': 1,\n",
       " '👍': 1,\n",
       " '🥳': 1,\n",
       " '💃': 1,\n",
       " '🌟': 1,\n",
       " '✨': 1,\n",
       " '🎉': 1,\n",
       " '😔': -1,\n",
       " '😞': -1,\n",
       " '😢': -1,\n",
       " '😒': -1,\n",
       " '👎': -1,\n",
       " '😠': -1,\n",
       " '😕': -1,\n",
       " '😣': -1,\n",
       " '😭': -1,\n",
       " '🙁': -1}"
      ]
     },
     "execution_count": 122,
     "metadata": {},
     "output_type": "execute_result"
    }
   ],
   "source": [
    "emojis_sentiment"
   ]
  },
  {
   "cell_type": "code",
   "execution_count": 125,
   "id": "344c0771",
   "metadata": {},
   "outputs": [
    {
     "name": "stdout",
     "output_type": "stream",
     "text": [
      "Average Sentiment Robyn using Positive Emojis: nan\n",
      "Average Sentiment Cher using Positive Emojis: nan\n"
     ]
    }
   ],
   "source": [
    "# Filter artist\n",
    "first_artist_data = lyrics_data[lyrics_data['artist'] == first_artist]\n",
    "second_artist_data = lyrics_data[lyrics_data['artist'] == second_artist]\n",
    "\n",
    "# Calculate average sentiment\n",
    "first_artist_avg_sentiment = first_artist_data[first_artist_data['lyrics'].str.contains('|'.join(positive_emojis))]['sentiment'].mean()\n",
    "second_artist_avg_sentiment = second_artist_data[second_artist_data['lyrics'].str.contains('|'.join(positive_emojis))]['sentiment'].mean()\n",
    "\n",
    "# Print the average sentiment\n",
    "print(\"Average Sentiment Robyn using Positive Emojis:\", first_artist_avg_sentiment)\n",
    "print(\"Average Sentiment Cher using Positive Emojis:\", second_artist_avg_sentiment)\n"
   ]
  },
  {
   "cell_type": "markdown",
   "id": "fb92eb93",
   "metadata": {},
   "source": [
    "Q: What is the average sentiment of your two artists? \n",
    "\n",
    "A: <!-- Your answer here --> \n",
    "\n",
    "---\n",
    "\n",
    "Q: Which positive emoji is the most popular for each artist? Which negative emoji? \n",
    "\n",
    "A: <!-- Your answer here --> \n",
    "\n",
    "\n",
    "### References"
   ]
  }
 ],
 "metadata": {
  "kernelspec": {
   "display_name": "Python 3 (ipykernel)",
   "language": "python",
   "name": "python3"
  },
  "language_info": {
   "codemirror_mode": {
    "name": "ipython",
    "version": 3
   },
   "file_extension": ".py",
   "mimetype": "text/x-python",
   "name": "python",
   "nbconvert_exporter": "python",
   "pygments_lexer": "ipython3",
   "version": "3.9.7"
  }
 },
 "nbformat": 4,
 "nbformat_minor": 5
}
